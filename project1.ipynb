{
  "nbformat": 4,
  "nbformat_minor": 0,
  "metadata": {
    "colab": {
      "name": "project1.ipynb",
      "provenance": [],
      "collapsed_sections": []
    },
    "kernelspec": {
      "name": "python3",
      "display_name": "Python 3"
    },
    "language_info": {
      "name": "python"
    }
  },
  "cells": [
    {
      "cell_type": "code",
      "metadata": {
        "id": "YWBRjqZHp70z"
      },
      "source": [
        "import pandas as pd\n",
        "import numpy as np\n",
        "import seaborn as sns\n",
        "from matplotlib import rcParams\n"
      ],
      "execution_count": 2,
      "outputs": []
    },
    {
      "cell_type": "code",
      "metadata": {
        "id": "w66q0ycXqTam"
      },
      "source": [
        "# graphics (the right size will depend on your system)\n",
        "rcParams['figure.figsize'] = 10,6\n",
        "sns.set_context('notebook')   # 'talk' for slightly larger.."
      ],
      "execution_count": 3,
      "outputs": []
    },
    {
      "cell_type": "code",
      "metadata": {
        "id": "7b1yZDJtqqpH",
        "colab": {
          "base_uri": "https://localhost:8080/"
        },
        "outputId": "f95b05e1-86ac-4c9b-cb44-301b9be12d2f"
      },
      "source": [
        "# read the data\n",
        "data_dir = \"https://data.montgomerycountymd.gov/api/views/mmzv-x632/rows.csv?accessType=DOWNLOAD\"\n",
        "df = pd.read_csv(data_dir)\n"
      ],
      "execution_count": 5,
      "outputs": [
        {
          "output_type": "stream",
          "name": "stderr",
          "text": [
            "/usr/local/lib/python3.7/dist-packages/IPython/core/interactiveshell.py:2718: DtypeWarning: Columns (1) have mixed types.Specify dtype option on import or set low_memory=False.\n",
            "  interactivity=interactivity, compiler=compiler, result=result)\n"
          ]
        }
      ]
    },
    {
      "cell_type": "code",
      "metadata": {
        "id": "H0E-Menzqst1"
      },
      "source": [
        "# turn the accident time into Pandas timestamp values, and make time the index\n",
        "# of the dataframe\n",
        "df.index = pd.to_datetime(df['Crash Date/Time'])\n",
        "df = df.sort_index()"
      ],
      "execution_count": 6,
      "outputs": []
    },
    {
      "cell_type": "code",
      "metadata": {
        "id": "_WsvikI0qvNI"
      },
      "source": [
        "# drop the columns that won't be used (this depends completely on your project)\n",
        "df = df.drop(['Report Number', 'Local Case Number', 'Person ID', 'Off-Road Description', \n",
        "              'Municipality', 'Vehicle ID', 'Drivers License State', \n",
        "              'Non-Motorist Substance Abuse', 'Driverless Vehicle',\t\n",
        "              'Parked Vehicle', 'Latitude',\t'Longitude', 'Location', \n",
        "              'Cross-Street Type', 'Related Non-Motorist', 'Crash Date/Time', 'Circumstance'], axis=1)"
      ],
      "execution_count": 7,
      "outputs": []
    },
    {
      "cell_type": "code",
      "metadata": {
        "id": "zja1hO2wqxIv",
        "colab": {
          "base_uri": "https://localhost:8080/"
        },
        "outputId": "443eef93-68ef-41f1-b8b1-6bc3bece130d"
      },
      "source": [
        "# creating an \"hour of day\" column\n",
        "# a \"day of week\" or \"month of year\" column might also be handy\n",
        "df['hour'] = df.index.hour\n",
        "\n",
        "df.plot.bar()\n"
      ],
      "execution_count": null,
      "outputs": [
        {
          "output_type": "execute_result",
          "data": {
            "text/plain": [
              "<matplotlib.axes._subplots.AxesSubplot at 0x7f6fd29bc190>"
            ]
          },
          "metadata": {},
          "execution_count": 10
        }
      ]
    }
  ]
}